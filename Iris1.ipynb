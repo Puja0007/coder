{
 "cells": [
  {
   "cell_type": "code",
   "execution_count": 1,
   "metadata": {},
   "outputs": [
    {
     "ename": "SyntaxError",
     "evalue": "invalid syntax (<ipython-input-1-eac3c5bfba9b>, line 3)",
     "output_type": "error",
     "traceback": [
      "\u001b[1;36m  File \u001b[1;32m\"<ipython-input-1-eac3c5bfba9b>\"\u001b[1;36m, line \u001b[1;32m3\u001b[0m\n\u001b[1;33m    In [0]:\u001b[0m\n\u001b[1;37m           ^\u001b[0m\n\u001b[1;31mSyntaxError\u001b[0m\u001b[1;31m:\u001b[0m invalid syntax\n"
     ]
    }
   ],
   "source": [
    "import pandas as pd\n",
    "iris = pd.read_csv('https://raw.githubusercontent.com/approjecthub/Machine-learning/master/Datasets/Iris.csv')\n",
    "In [0]:\n",
    "#selecting columns that are only features and labels\n",
    "\n",
    "iris_n = iris.drop(iris.columns[5:], axis=1)\n",
    "iris_feature = iris_n.drop('iris', 1)\n",
    "iris_label = iris_n['iris']\n",
    "In [0]:\n",
    "#Converting the datas in numpy array\n",
    "\n",
    "import numpy as np\n",
    "iris_label = np.array(iris_label)\n",
    "iris_feature = np.array(iris_feature)\n",
    "In [0]:\n",
    "# split the data with 70% in each set\n",
    "\n",
    "from sklearn.model_selection import train_test_split\n",
    "iris_train_feature, iris_test_feature, iris_train_label, iris_test_label = train_test_split(iris_feature,iris_label, random_state=0,\n",
    "                                  train_size=0.7)\n",
    "In [0]:\n",
    "#choose model class\n",
    "from sklearn.naive_bayes import GaussianNB\n",
    "model = GaussianNB()                       \n",
    "\n",
    "#fit model to data\n",
    "model.fit(iris_train_feature,iris_train_label)                  \n",
    "iris_predicted_label = model.predict(iris_test_feature)\n",
    "In [11]:\n",
    "from sklearn.metrics import accuracy_score\n",
    "accuracy_score(iris_test_label,iris_predicted_label)\n",
    "Out[11]:\n",
    "1.0\n",
    "In [0]:\n",
    "\n",
    "In [0]:\n"
   ]
  },
  {
   "cell_type": "code",
   "execution_count": null,
   "metadata": {},
   "outputs": [],
   "source": []
  }
 ],
 "metadata": {
  "kernelspec": {
   "display_name": "Python 3",
   "language": "python",
   "name": "python3"
  },
  "language_info": {
   "codemirror_mode": {
    "name": "ipython",
    "version": 3
   },
   "file_extension": ".py",
   "mimetype": "text/x-python",
   "name": "python",
   "nbconvert_exporter": "python",
   "pygments_lexer": "ipython3",
   "version": "3.7.1"
  }
 },
 "nbformat": 4,
 "nbformat_minor": 2
}
